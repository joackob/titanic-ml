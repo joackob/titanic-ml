{
 "cells": [
  {
   "cell_type": "code",
   "execution_count": 1,
   "metadata": {},
   "outputs": [],
   "source": [
    "import keras as kr\n",
    "import pandas as pd\n",
    "import tensorflow as tf\n",
    "from pathlib import Path"
   ]
  },
  {
   "cell_type": "code",
   "execution_count": 2,
   "metadata": {},
   "outputs": [
    {
     "data": {
      "text/html": [
       "<div>\n",
       "<style scoped>\n",
       "    .dataframe tbody tr th:only-of-type {\n",
       "        vertical-align: middle;\n",
       "    }\n",
       "\n",
       "    .dataframe tbody tr th {\n",
       "        vertical-align: top;\n",
       "    }\n",
       "\n",
       "    .dataframe thead th {\n",
       "        text-align: right;\n",
       "    }\n",
       "</style>\n",
       "<table border=\"1\" class=\"dataframe\">\n",
       "  <thead>\n",
       "    <tr style=\"text-align: right;\">\n",
       "      <th></th>\n",
       "      <th>Pclass</th>\n",
       "      <th>Sex</th>\n",
       "      <th>Age</th>\n",
       "      <th>SibSp</th>\n",
       "      <th>Parch</th>\n",
       "      <th>Fare</th>\n",
       "      <th>Embarked</th>\n",
       "    </tr>\n",
       "  </thead>\n",
       "  <tbody>\n",
       "    <tr>\n",
       "      <th>0</th>\n",
       "      <td>3</td>\n",
       "      <td>male</td>\n",
       "      <td>22.0</td>\n",
       "      <td>1</td>\n",
       "      <td>0</td>\n",
       "      <td>7.2500</td>\n",
       "      <td>S</td>\n",
       "    </tr>\n",
       "    <tr>\n",
       "      <th>1</th>\n",
       "      <td>1</td>\n",
       "      <td>female</td>\n",
       "      <td>38.0</td>\n",
       "      <td>1</td>\n",
       "      <td>0</td>\n",
       "      <td>71.2833</td>\n",
       "      <td>C</td>\n",
       "    </tr>\n",
       "    <tr>\n",
       "      <th>2</th>\n",
       "      <td>3</td>\n",
       "      <td>female</td>\n",
       "      <td>26.0</td>\n",
       "      <td>0</td>\n",
       "      <td>0</td>\n",
       "      <td>7.9250</td>\n",
       "      <td>S</td>\n",
       "    </tr>\n",
       "    <tr>\n",
       "      <th>3</th>\n",
       "      <td>1</td>\n",
       "      <td>female</td>\n",
       "      <td>35.0</td>\n",
       "      <td>1</td>\n",
       "      <td>0</td>\n",
       "      <td>53.1000</td>\n",
       "      <td>S</td>\n",
       "    </tr>\n",
       "    <tr>\n",
       "      <th>4</th>\n",
       "      <td>3</td>\n",
       "      <td>male</td>\n",
       "      <td>35.0</td>\n",
       "      <td>0</td>\n",
       "      <td>0</td>\n",
       "      <td>8.0500</td>\n",
       "      <td>S</td>\n",
       "    </tr>\n",
       "    <tr>\n",
       "      <th>...</th>\n",
       "      <td>...</td>\n",
       "      <td>...</td>\n",
       "      <td>...</td>\n",
       "      <td>...</td>\n",
       "      <td>...</td>\n",
       "      <td>...</td>\n",
       "      <td>...</td>\n",
       "    </tr>\n",
       "    <tr>\n",
       "      <th>886</th>\n",
       "      <td>2</td>\n",
       "      <td>male</td>\n",
       "      <td>27.0</td>\n",
       "      <td>0</td>\n",
       "      <td>0</td>\n",
       "      <td>13.0000</td>\n",
       "      <td>S</td>\n",
       "    </tr>\n",
       "    <tr>\n",
       "      <th>887</th>\n",
       "      <td>1</td>\n",
       "      <td>female</td>\n",
       "      <td>19.0</td>\n",
       "      <td>0</td>\n",
       "      <td>0</td>\n",
       "      <td>30.0000</td>\n",
       "      <td>S</td>\n",
       "    </tr>\n",
       "    <tr>\n",
       "      <th>888</th>\n",
       "      <td>3</td>\n",
       "      <td>female</td>\n",
       "      <td>NaN</td>\n",
       "      <td>1</td>\n",
       "      <td>2</td>\n",
       "      <td>23.4500</td>\n",
       "      <td>S</td>\n",
       "    </tr>\n",
       "    <tr>\n",
       "      <th>889</th>\n",
       "      <td>1</td>\n",
       "      <td>male</td>\n",
       "      <td>26.0</td>\n",
       "      <td>0</td>\n",
       "      <td>0</td>\n",
       "      <td>30.0000</td>\n",
       "      <td>C</td>\n",
       "    </tr>\n",
       "    <tr>\n",
       "      <th>890</th>\n",
       "      <td>3</td>\n",
       "      <td>male</td>\n",
       "      <td>32.0</td>\n",
       "      <td>0</td>\n",
       "      <td>0</td>\n",
       "      <td>7.7500</td>\n",
       "      <td>Q</td>\n",
       "    </tr>\n",
       "  </tbody>\n",
       "</table>\n",
       "<p>891 rows × 7 columns</p>\n",
       "</div>"
      ],
      "text/plain": [
       "     Pclass     Sex   Age  SibSp  Parch     Fare Embarked\n",
       "0         3    male  22.0      1      0   7.2500        S\n",
       "1         1  female  38.0      1      0  71.2833        C\n",
       "2         3  female  26.0      0      0   7.9250        S\n",
       "3         1  female  35.0      1      0  53.1000        S\n",
       "4         3    male  35.0      0      0   8.0500        S\n",
       "..      ...     ...   ...    ...    ...      ...      ...\n",
       "886       2    male  27.0      0      0  13.0000        S\n",
       "887       1  female  19.0      0      0  30.0000        S\n",
       "888       3  female   NaN      1      2  23.4500        S\n",
       "889       1    male  26.0      0      0  30.0000        C\n",
       "890       3    male  32.0      0      0   7.7500        Q\n",
       "\n",
       "[891 rows x 7 columns]"
      ]
     },
     "execution_count": 2,
     "metadata": {},
     "output_type": "execute_result"
    }
   ],
   "source": [
    "data_raw_path = Path(\"../data/raw/train.csv\")\n",
    "data_raw_path.resolve()\n",
    "data_raw = pd.read_csv(filepath_or_buffer=data_raw_path)\n",
    "features = data_raw.copy().loc[\n",
    "    :,\n",
    "    [\n",
    "        \"Pclass\",\n",
    "        \"Sex\",\n",
    "        \"Age\",\n",
    "        \"SibSp\",\n",
    "        \"Parch\",\n",
    "        \"Fare\",\n",
    "        \"Embarked\",\n",
    "    ],\n",
    "]\n",
    "\n",
    "features.loc[features[\"Embarked\"].isna(), \"Embarked\"] = \"D\"\n",
    "features"
   ]
  },
  {
   "cell_type": "code",
   "execution_count": 3,
   "metadata": {},
   "outputs": [
    {
     "data": {
      "text/plain": [
       "(891,)"
      ]
     },
     "execution_count": 3,
     "metadata": {},
     "output_type": "execute_result"
    }
   ],
   "source": [
    "features[\"Fare\"].shape"
   ]
  },
  {
   "cell_type": "code",
   "execution_count": 4,
   "metadata": {},
   "outputs": [],
   "source": [
    "labels = data_raw.copy().pop(item=\"Survived\")"
   ]
  },
  {
   "cell_type": "code",
   "execution_count": 5,
   "metadata": {},
   "outputs": [],
   "source": [
    "# change types of features\n",
    "features = features.astype(\n",
    "    dtype={\n",
    "        \"Sex\": \"string\",\n",
    "        \"Embarked\": \"string\",\n",
    "    }\n",
    ")"
   ]
  },
  {
   "cell_type": "code",
   "execution_count": 6,
   "metadata": {},
   "outputs": [],
   "source": [
    "inputs = {\n",
    "    \"Pclass\": kr.Input(\n",
    "        shape=(1,),\n",
    "        dtype=features.dtypes[\"Pclass\"],\n",
    "        name=\"Pclass\",\n",
    "    ),\n",
    "    \"Sex\": kr.Input(\n",
    "        shape=(1,),\n",
    "        dtype=features.dtypes[\"Sex\"],\n",
    "        name=\"Sex\",\n",
    "    ),\n",
    "    \"Age\": kr.Input(\n",
    "        shape=(1,),\n",
    "        dtype=features.dtypes[\"Age\"],\n",
    "        name=\"Age\",\n",
    "    ),\n",
    "    \"SibSp\": kr.Input(\n",
    "        shape=(1,),\n",
    "        dtype=features.dtypes[\"SibSp\"],\n",
    "        name=\"SibSp\",\n",
    "    ),\n",
    "    \"Parch\": kr.Input(\n",
    "        shape=(1,),\n",
    "        dtype=features.dtypes[\"Parch\"],\n",
    "        name=\"Parch\",\n",
    "    ),\n",
    "    \"Fare\": kr.Input(\n",
    "        shape=(1,),\n",
    "        dtype=features.dtypes[\"Fare\"],\n",
    "        name=\"Fare\",\n",
    "    ),\n",
    "    \"Embarked\": kr.Input(\n",
    "        shape=(1,),\n",
    "        dtype=features.dtypes[\"Embarked\"],\n",
    "        name=\"Embarked\",\n",
    "    ),\n",
    "}\n",
    "\n",
    "pclass_output = kr.layers.CategoryEncoding(num_tokens=3)\n",
    "gender_output = kr.layers.StringLookup(vocabulary=features[\"Sex\"].unique())\n",
    "age_output = kr.layers.Discretization(bin_boundaries=[0, 6, 12, 18, 26, 59])\n",
    "sibsp_output = kr.layers.Normalization()\n",
    "parch_output = kr.layers.Normalization()\n",
    "fare_output = kr.layers.Normalization()\n",
    "embarked_output = kr.layers.StringLookup(vocabulary=features[\"Embarked\"].unique())\n",
    "\n",
    "outputs = {\n",
    "    \"Pclass\": pclass_output(inputs[\"Pclass\"]),\n",
    "    \"Sex\": gender_output(inputs[\"Sex\"]),\n",
    "    \"Age\": age_output(inputs[\"Age\"]),\n",
    "    \"SibSp\": sibsp_output(inputs[\"SibSp\"]),\n",
    "    \"Parch\": parch_output(inputs[\"Parch\"]),\n",
    "    \"Fare\": fare_output(inputs[\"Fare\"]),\n",
    "    \"Embarked\": embarked_output(inputs[\"Embarked\"]),\n",
    "}"
   ]
  },
  {
   "cell_type": "code",
   "execution_count": 7,
   "metadata": {},
   "outputs": [],
   "source": [
    "preprocessing_model = kr.Model(inputs, outputs)"
   ]
  },
  {
   "cell_type": "code",
   "execution_count": 8,
   "metadata": {},
   "outputs": [],
   "source": [
    "features_processed = preprocessing_model(dict(features))"
   ]
  },
  {
   "cell_type": "code",
   "execution_count": 9,
   "metadata": {},
   "outputs": [
    {
     "data": {
      "text/plain": [
       "<_TensorSliceDataset element_spec=({'Pclass': TensorSpec(shape=(3,), dtype=tf.float32, name=None), 'Sex': TensorSpec(shape=(1,), dtype=tf.int64, name=None), 'Age': TensorSpec(shape=(1,), dtype=tf.int64, name=None), 'SibSp': TensorSpec(shape=(1,), dtype=tf.float32, name=None), 'Parch': TensorSpec(shape=(1,), dtype=tf.float32, name=None), 'Fare': TensorSpec(shape=(1,), dtype=tf.float32, name=None), 'Embarked': TensorSpec(shape=(1,), dtype=tf.int64, name=None)}, TensorSpec(shape=(), dtype=tf.int64, name=None))>"
      ]
     },
     "execution_count": 9,
     "metadata": {},
     "output_type": "execute_result"
    }
   ],
   "source": [
    "dataset = tf.data.Dataset.from_tensor_slices(tensors=(dict(features_processed), labels))\n",
    "dataset"
   ]
  },
  {
   "cell_type": "code",
   "execution_count": 10,
   "metadata": {},
   "outputs": [],
   "source": [
    "dataset.save(\"dataset.keras\")"
   ]
  },
  {
   "cell_type": "code",
   "execution_count": 11,
   "metadata": {},
   "outputs": [
    {
     "data": {
      "text/plain": [
       "<_LoadDataset element_spec=({'Pclass': TensorSpec(shape=(3,), dtype=tf.float32, name=None), 'SibSp': TensorSpec(shape=(1,), dtype=tf.float32, name=None), 'Embarked': TensorSpec(shape=(1,), dtype=tf.int64, name=None), 'Sex': TensorSpec(shape=(1,), dtype=tf.int64, name=None), 'Age': TensorSpec(shape=(1,), dtype=tf.int64, name=None), 'Parch': TensorSpec(shape=(1,), dtype=tf.float32, name=None), 'Fare': TensorSpec(shape=(1,), dtype=tf.float32, name=None)}, TensorSpec(shape=(), dtype=tf.int64, name=None))>"
      ]
     },
     "execution_count": 11,
     "metadata": {},
     "output_type": "execute_result"
    }
   ],
   "source": [
    "dataset_loaded = tf.data.Dataset.load(\"dataset.keras\")\n",
    "dataset_loaded"
   ]
  }
 ],
 "metadata": {
  "kernelspec": {
   "display_name": "titanic-ml-tfp-uQ9tOZ3_",
   "language": "python",
   "name": "python3"
  },
  "language_info": {
   "codemirror_mode": {
    "name": "ipython",
    "version": 3
   },
   "file_extension": ".py",
   "mimetype": "text/x-python",
   "name": "python",
   "nbconvert_exporter": "python",
   "pygments_lexer": "ipython3",
   "version": "3.11.4"
  }
 },
 "nbformat": 4,
 "nbformat_minor": 2
}

{
 "cells": [
  {
   "cell_type": "code",
   "execution_count": 49,
   "metadata": {},
   "outputs": [],
   "source": [
    "import pandas as pd\n",
    "import seaborn as sns\n",
    "\n",
    "data_train_path = \"../data/raw/train.csv\"\n",
    "\n",
    "\n",
    "data_train = pd.read_csv(filepath_or_buffer=data_train_path)"
   ]
  },
  {
   "cell_type": "code",
   "execution_count": 50,
   "metadata": {},
   "outputs": [],
   "source": [
    "sns.set_theme(style=\"darkgrid\")"
   ]
  },
  {
   "cell_type": "markdown",
   "metadata": {},
   "source": [
    "## Relación entre cada atributo y el objetivo\n"
   ]
  },
  {
   "cell_type": "markdown",
   "metadata": {},
   "source": [
    "### Cantidad de sobrevivientes por clase\n"
   ]
  },
  {
   "cell_type": "code",
   "execution_count": 51,
   "metadata": {},
   "outputs": [
    {
     "data": {
      "text/html": [
       "<div>\n",
       "<style scoped>\n",
       "    .dataframe tbody tr th:only-of-type {\n",
       "        vertical-align: middle;\n",
       "    }\n",
       "\n",
       "    .dataframe tbody tr th {\n",
       "        vertical-align: top;\n",
       "    }\n",
       "\n",
       "    .dataframe thead th {\n",
       "        text-align: right;\n",
       "    }\n",
       "</style>\n",
       "<table border=\"1\" class=\"dataframe\">\n",
       "  <thead>\n",
       "    <tr style=\"text-align: right;\">\n",
       "      <th></th>\n",
       "      <th>PassengerId</th>\n",
       "      <th>Survived</th>\n",
       "      <th>Pclass</th>\n",
       "    </tr>\n",
       "  </thead>\n",
       "  <tbody>\n",
       "    <tr>\n",
       "      <th>0</th>\n",
       "      <td>1</td>\n",
       "      <td>No</td>\n",
       "      <td>Tercera</td>\n",
       "    </tr>\n",
       "    <tr>\n",
       "      <th>1</th>\n",
       "      <td>2</td>\n",
       "      <td>Si</td>\n",
       "      <td>Primera</td>\n",
       "    </tr>\n",
       "    <tr>\n",
       "      <th>2</th>\n",
       "      <td>3</td>\n",
       "      <td>Si</td>\n",
       "      <td>Tercera</td>\n",
       "    </tr>\n",
       "    <tr>\n",
       "      <th>3</th>\n",
       "      <td>4</td>\n",
       "      <td>Si</td>\n",
       "      <td>Primera</td>\n",
       "    </tr>\n",
       "    <tr>\n",
       "      <th>4</th>\n",
       "      <td>5</td>\n",
       "      <td>No</td>\n",
       "      <td>Tercera</td>\n",
       "    </tr>\n",
       "    <tr>\n",
       "      <th>...</th>\n",
       "      <td>...</td>\n",
       "      <td>...</td>\n",
       "      <td>...</td>\n",
       "    </tr>\n",
       "    <tr>\n",
       "      <th>886</th>\n",
       "      <td>887</td>\n",
       "      <td>No</td>\n",
       "      <td>Segunda</td>\n",
       "    </tr>\n",
       "    <tr>\n",
       "      <th>887</th>\n",
       "      <td>888</td>\n",
       "      <td>Si</td>\n",
       "      <td>Primera</td>\n",
       "    </tr>\n",
       "    <tr>\n",
       "      <th>888</th>\n",
       "      <td>889</td>\n",
       "      <td>No</td>\n",
       "      <td>Tercera</td>\n",
       "    </tr>\n",
       "    <tr>\n",
       "      <th>889</th>\n",
       "      <td>890</td>\n",
       "      <td>Si</td>\n",
       "      <td>Primera</td>\n",
       "    </tr>\n",
       "    <tr>\n",
       "      <th>890</th>\n",
       "      <td>891</td>\n",
       "      <td>No</td>\n",
       "      <td>Tercera</td>\n",
       "    </tr>\n",
       "  </tbody>\n",
       "</table>\n",
       "<p>891 rows × 3 columns</p>\n",
       "</div>"
      ],
      "text/plain": [
       "     PassengerId Survived   Pclass\n",
       "0              1       No  Tercera\n",
       "1              2       Si  Primera\n",
       "2              3       Si  Tercera\n",
       "3              4       Si  Primera\n",
       "4              5       No  Tercera\n",
       "..           ...      ...      ...\n",
       "886          887       No  Segunda\n",
       "887          888       Si  Primera\n",
       "888          889       No  Tercera\n",
       "889          890       Si  Primera\n",
       "890          891       No  Tercera\n",
       "\n",
       "[891 rows x 3 columns]"
      ]
     },
     "execution_count": 51,
     "metadata": {},
     "output_type": "execute_result"
    }
   ],
   "source": [
    "data_survivors_by_class = data_train.copy()\n",
    "data_survivors_by_class = data_survivors_by_class[[\"PassengerId\", \"Survived\", \"Pclass\"]]\n",
    "\n",
    "data_survivors_by_class = data_survivors_by_class.replace(\n",
    "    to_replace={\n",
    "        \"Survived\": {0: \"No\", 1: \"Si\"},\n",
    "        \"Pclass\": {1: \"Primera\", 2: \"Segunda\", 3: \"Tercera\"},\n",
    "    }\n",
    ")\n",
    "data_survivors_by_class"
   ]
  },
  {
   "cell_type": "code",
   "execution_count": 52,
   "metadata": {},
   "outputs": [
    {
     "data": {
      "text/html": [
       "<div>\n",
       "<style scoped>\n",
       "    .dataframe tbody tr th:only-of-type {\n",
       "        vertical-align: middle;\n",
       "    }\n",
       "\n",
       "    .dataframe tbody tr th {\n",
       "        vertical-align: top;\n",
       "    }\n",
       "\n",
       "    .dataframe thead th {\n",
       "        text-align: right;\n",
       "    }\n",
       "</style>\n",
       "<table border=\"1\" class=\"dataframe\">\n",
       "  <thead>\n",
       "    <tr style=\"text-align: right;\">\n",
       "      <th></th>\n",
       "      <th>Clase</th>\n",
       "      <th>Sobreviviente</th>\n",
       "      <th>Cantidad</th>\n",
       "    </tr>\n",
       "  </thead>\n",
       "  <tbody>\n",
       "    <tr>\n",
       "      <th>0</th>\n",
       "      <td>Primera</td>\n",
       "      <td>No</td>\n",
       "      <td>80</td>\n",
       "    </tr>\n",
       "    <tr>\n",
       "      <th>1</th>\n",
       "      <td>Primera</td>\n",
       "      <td>Si</td>\n",
       "      <td>136</td>\n",
       "    </tr>\n",
       "    <tr>\n",
       "      <th>2</th>\n",
       "      <td>Segunda</td>\n",
       "      <td>No</td>\n",
       "      <td>97</td>\n",
       "    </tr>\n",
       "    <tr>\n",
       "      <th>3</th>\n",
       "      <td>Segunda</td>\n",
       "      <td>Si</td>\n",
       "      <td>87</td>\n",
       "    </tr>\n",
       "    <tr>\n",
       "      <th>4</th>\n",
       "      <td>Tercera</td>\n",
       "      <td>No</td>\n",
       "      <td>372</td>\n",
       "    </tr>\n",
       "    <tr>\n",
       "      <th>5</th>\n",
       "      <td>Tercera</td>\n",
       "      <td>Si</td>\n",
       "      <td>119</td>\n",
       "    </tr>\n",
       "  </tbody>\n",
       "</table>\n",
       "</div>"
      ],
      "text/plain": [
       "     Clase Sobreviviente  Cantidad\n",
       "0  Primera            No        80\n",
       "1  Primera            Si       136\n",
       "2  Segunda            No        97\n",
       "3  Segunda            Si        87\n",
       "4  Tercera            No       372\n",
       "5  Tercera            Si       119"
      ]
     },
     "execution_count": 52,
     "metadata": {},
     "output_type": "execute_result"
    }
   ],
   "source": [
    "data_survivors_by_class = (\n",
    "    data_survivors_by_class.rename(\n",
    "        columns={\n",
    "            \"Pclass\": \"Clase\",\n",
    "            \"Survived\": \"Sobreviviente\",\n",
    "            \"PassengerId\": \"Cantidad\",\n",
    "        }\n",
    "    )\n",
    "    .groupby(by=[\"Clase\", \"Sobreviviente\"])\n",
    "    .agg(func={\"Cantidad\": \"count\"})\n",
    "    .reset_index()\n",
    ")\n",
    "\n",
    "\n",
    "data_survivors_by_class"
   ]
  },
  {
   "cell_type": "code",
   "execution_count": 62,
   "metadata": {},
   "outputs": [
    {
     "data": {
      "image/png": "[encoded data removed]",
      "text/plain": [
       "<Figure size 613.347x500 with 1 Axes>"
      ]
     },
     "metadata": {},
     "output_type": "display_data"
    }
   ],
   "source": [
    "graph_survivors_by_class = (\n",
    "    sns.catplot(\n",
    "        data=data_survivors_by_class,\n",
    "        x=\"Clase\",\n",
    "        y=\"Cantidad\",\n",
    "        hue=\"Sobreviviente\",\n",
    "        kind=\"bar\",\n",
    "        palette=\"dark\",\n",
    "        alpha=0.6,\n",
    "    )\n",
    "    .set_axis_labels(x_var=\"Clase\", y_var=\"\")\n",
    "    .set(title=\"Cantidad de sobrevivientes y no sobrevivientes por Clase\")\n",
    ")\n",
    "\n",
    "ax_graph_survivors_by_class = graph_survivors_by_class.ax\n",
    "\n",
    "for container in ax_graph_survivors_by_class.containers:\n",
    "    ax_graph_survivors_by_class.bar_label(container=container)"
   ]
  }
 ],
 "metadata": {
  "kernelspec": {
   "display_name": "titanic-ml-project-2sn_oKVB",
   "language": "python",
   "name": "python3"
  },
  "language_info": {
   "codemirror_mode": {
    "name": "ipython",
    "version": 3
   },
   "file_extension": ".py",
   "mimetype": "text/x-python",
   "name": "python",
   "nbconvert_exporter": "python",
   "pygments_lexer": "ipython3",
   "version": "3.11.4"
  }
 },
 "nbformat": 4,
 "nbformat_minor": 2
}

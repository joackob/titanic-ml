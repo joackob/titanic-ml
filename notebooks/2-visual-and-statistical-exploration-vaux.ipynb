{
 "cells": [
  {
   "cell_type": "code",
   "execution_count": 103,
   "metadata": {},
   "outputs": [],
   "source": [
    "import pandas as pd\n",
    "import seaborn as sns\n",
    "\n",
    "data_train_path = \"../data/raw/train.csv\"\n",
    "\n",
    "\n",
    "data_train = pd.read_csv(filepath_or_buffer=data_train_path)"
   ]
  },
  {
   "cell_type": "code",
   "execution_count": 104,
   "metadata": {},
   "outputs": [],
   "source": [
    "sns.set_theme(style=\"darkgrid\")"
   ]
  },
  {
   "cell_type": "markdown",
   "metadata": {},
   "source": [
    "## Relación entre cada atributo y el objetivo\n"
   ]
  },
  {
   "cell_type": "markdown",
   "metadata": {},
   "source": [
    "### Cantidad de sobrevivientes por clase\n"
   ]
  },
  {
   "cell_type": "code",
   "execution_count": 105,
   "metadata": {},
   "outputs": [
    {
     "data": {
      "text/html": [
       "<div>\n",
       "<style scoped>\n",
       "    .dataframe tbody tr th:only-of-type {\n",
       "        vertical-align: middle;\n",
       "    }\n",
       "\n",
       "    .dataframe tbody tr th {\n",
       "        vertical-align: top;\n",
       "    }\n",
       "\n",
       "    .dataframe thead th {\n",
       "        text-align: right;\n",
       "    }\n",
       "</style>\n",
       "<table border=\"1\" class=\"dataframe\">\n",
       "  <thead>\n",
       "    <tr style=\"text-align: right;\">\n",
       "      <th></th>\n",
       "      <th>Clase</th>\n",
       "      <th>Sobreviviente</th>\n",
       "      <th>Cantidad</th>\n",
       "    </tr>\n",
       "  </thead>\n",
       "  <tbody>\n",
       "    <tr>\n",
       "      <th>0</th>\n",
       "      <td>Primera</td>\n",
       "      <td>No</td>\n",
       "      <td>80</td>\n",
       "    </tr>\n",
       "    <tr>\n",
       "      <th>1</th>\n",
       "      <td>Primera</td>\n",
       "      <td>Si</td>\n",
       "      <td>136</td>\n",
       "    </tr>\n",
       "    <tr>\n",
       "      <th>2</th>\n",
       "      <td>Segunda</td>\n",
       "      <td>No</td>\n",
       "      <td>97</td>\n",
       "    </tr>\n",
       "    <tr>\n",
       "      <th>3</th>\n",
       "      <td>Segunda</td>\n",
       "      <td>Si</td>\n",
       "      <td>87</td>\n",
       "    </tr>\n",
       "    <tr>\n",
       "      <th>4</th>\n",
       "      <td>Tercera</td>\n",
       "      <td>No</td>\n",
       "      <td>372</td>\n",
       "    </tr>\n",
       "    <tr>\n",
       "      <th>5</th>\n",
       "      <td>Tercera</td>\n",
       "      <td>Si</td>\n",
       "      <td>119</td>\n",
       "    </tr>\n",
       "  </tbody>\n",
       "</table>\n",
       "</div>"
      ],
      "text/plain": [
       "     Clase Sobreviviente  Cantidad\n",
       "0  Primera            No        80\n",
       "1  Primera            Si       136\n",
       "2  Segunda            No        97\n",
       "3  Segunda            Si        87\n",
       "4  Tercera            No       372\n",
       "5  Tercera            Si       119"
      ]
     },
     "execution_count": 105,
     "metadata": {},
     "output_type": "execute_result"
    }
   ],
   "source": [
    "data_survivors_by_class = (\n",
    "    data_train.copy()\n",
    "    .loc[:, [\"PassengerId\", \"Survived\", \"Pclass\"]]\n",
    "    .replace(\n",
    "        to_replace={\n",
    "            \"Survived\": {0: \"No\", 1: \"Si\"},\n",
    "            \"Pclass\": {1: \"Primera\", 2: \"Segunda\", 3: \"Tercera\"},\n",
    "        }\n",
    "    )\n",
    "    .rename(\n",
    "        columns={\n",
    "            \"Pclass\": \"Clase\",\n",
    "            \"Survived\": \"Sobreviviente\",\n",
    "            \"PassengerId\": \"Cantidad\",\n",
    "        }\n",
    "    )\n",
    "    .groupby(by=[\"Clase\", \"Sobreviviente\"])\n",
    "    .agg(func={\"Cantidad\": \"count\"})\n",
    "    .reset_index()\n",
    ")\n",
    "\n",
    "\n",
    "data_survivors_by_class"
   ]
  },
  {
   "cell_type": "code",
   "execution_count": 127,
   "metadata": {},
   "outputs": [
    {
     "data": {
      "image/png": "[encoded data removed]",
      "text/plain": [
       "<Figure size 500x500 with 1 Axes>"
      ]
     },
     "metadata": {},
     "output_type": "display_data"
    }
   ],
   "source": [
    "graph_survivors_by_class = (\n",
    "    sns.catplot(\n",
    "        data=data_survivors_by_class,\n",
    "        x=\"Clase\",\n",
    "        y=\"Cantidad\",\n",
    "        hue=\"Sobreviviente\",\n",
    "        kind=\"bar\",\n",
    "        alpha=0.6,\n",
    "        legend_out=False,\n",
    "        palette=['grey', 'blue'],\n",
    "    )\n",
    "    .set_axis_labels(x_var=\"\", y_var=\"\")\n",
    "    .set(title=\"Cantidad de sobrevivientes por clase\")\n",
    ")\n",
    "\n",
    "ax_graph_survivors_by_class = graph_survivors_by_class.ax\n",
    "ax_graph_survivors_by_class.get_legend().remove()\n",
    "\n",
    "for container in ax_graph_survivors_by_class.containers:\n",
    "    ax_graph_survivors_by_class.bar_label(container=container)  # type: ignore"
   ]
  },
  {
   "cell_type": "markdown",
   "metadata": {},
   "source": [
    "### Cantidad de sobrevivientes por sexo\n"
   ]
  },
  {
   "cell_type": "code",
   "execution_count": 128,
   "metadata": {},
   "outputs": [
    {
     "data": {
      "text/html": [
       "<div>\n",
       "<style scoped>\n",
       "    .dataframe tbody tr th:only-of-type {\n",
       "        vertical-align: middle;\n",
       "    }\n",
       "\n",
       "    .dataframe tbody tr th {\n",
       "        vertical-align: top;\n",
       "    }\n",
       "\n",
       "    .dataframe thead th {\n",
       "        text-align: right;\n",
       "    }\n",
       "</style>\n",
       "<table border=\"1\" class=\"dataframe\">\n",
       "  <thead>\n",
       "    <tr style=\"text-align: right;\">\n",
       "      <th></th>\n",
       "      <th>Genero</th>\n",
       "      <th>Sobreviviente</th>\n",
       "      <th>Cantidad</th>\n",
       "    </tr>\n",
       "  </thead>\n",
       "  <tbody>\n",
       "    <tr>\n",
       "      <th>0</th>\n",
       "      <td>hombre</td>\n",
       "      <td>No</td>\n",
       "      <td>468</td>\n",
       "    </tr>\n",
       "    <tr>\n",
       "      <th>1</th>\n",
       "      <td>hombre</td>\n",
       "      <td>Si</td>\n",
       "      <td>109</td>\n",
       "    </tr>\n",
       "    <tr>\n",
       "      <th>2</th>\n",
       "      <td>mujer</td>\n",
       "      <td>No</td>\n",
       "      <td>81</td>\n",
       "    </tr>\n",
       "    <tr>\n",
       "      <th>3</th>\n",
       "      <td>mujer</td>\n",
       "      <td>Si</td>\n",
       "      <td>233</td>\n",
       "    </tr>\n",
       "  </tbody>\n",
       "</table>\n",
       "</div>"
      ],
      "text/plain": [
       "   Genero Sobreviviente  Cantidad\n",
       "0  hombre            No       468\n",
       "1  hombre            Si       109\n",
       "2   mujer            No        81\n",
       "3   mujer            Si       233"
      ]
     },
     "execution_count": 128,
     "metadata": {},
     "output_type": "execute_result"
    }
   ],
   "source": [
    "data_survivors_by_sex = (\n",
    "    data_train.copy()\n",
    "    .loc[:, [\"Sex\", \"Survived\", \"PassengerId\"]]\n",
    "    .rename(\n",
    "        columns={\n",
    "            \"Sex\": \"Genero\",\n",
    "            \"Survived\": \"Sobreviviente\",\n",
    "            \"PassengerId\": \"Cantidad\",\n",
    "        }\n",
    "    )\n",
    "    .replace(\n",
    "        to_replace={\n",
    "            \"Genero\": {\"female\": \"mujer\", \"male\": \"hombre\"},\n",
    "            \"Sobreviviente\": {0: \"No\", 1: \"Si\"},\n",
    "        }\n",
    "    )\n",
    "    .groupby(by=[\"Genero\", \"Sobreviviente\"])\n",
    "    .agg(func={\"Cantidad\": \"count\"})\n",
    "    .reset_index()\n",
    ")\n",
    "data_survivors_by_sex"
   ]
  },
  {
   "cell_type": "code",
   "execution_count": 129,
   "metadata": {},
   "outputs": [
    {
     "data": {
      "image/png": "[encoded data removed]",
      "text/plain": [
       "<Figure size 500x500 with 1 Axes>"
      ]
     },
     "metadata": {},
     "output_type": "display_data"
    }
   ],
   "source": [
    "graph_survivors_by_gender = (\n",
    "    sns.catplot(\n",
    "        data=data_survivors_by_sex,\n",
    "        x=\"Genero\",\n",
    "        y=\"Cantidad\",\n",
    "        hue=\"Sobreviviente\",\n",
    "        kind=\"bar\",\n",
    "        alpha=0.6,\n",
    "        legend_out=False,\n",
    "        palette=['grey', 'blue']\n",
    "    )\n",
    "    .set(title=\"Cantidad de sobrevivientes por genero\")\n",
    "    .set_axis_labels(x_var=\"\", y_var=\"\")\n",
    ")\n",
    "\n",
    "ax_graph_survivors_by_gender = graph_survivors_by_gender.ax\n",
    "ax_graph_survivors_by_gender.get_legend().remove()\n",
    "\n",
    "for container in ax_graph_survivors_by_gender.containers:\n",
    "    ax_graph_survivors_by_gender.bar_label(container=container)  # type: ignore"
   ]
  }
 ],
 "metadata": {
  "kernelspec": {
   "display_name": "titanic-ml-project-2sn_oKVB",
   "language": "python",
   "name": "python3"
  },
  "language_info": {
   "codemirror_mode": {
    "name": "ipython",
    "version": 3
   },
   "file_extension": ".py",
   "mimetype": "text/x-python",
   "name": "python",
   "nbconvert_exporter": "python",
   "pygments_lexer": "ipython3",
   "version": "3.11.4"
  }
 },
 "nbformat": 4,
 "nbformat_minor": 2
}

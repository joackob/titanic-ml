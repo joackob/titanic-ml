{
 "cells": [
  {
   "cell_type": "code",
   "execution_count": 1,
   "metadata": {},
   "outputs": [],
   "source": [
    "import os\n",
    "\n",
    "os.environ[\"KERAS_BACKEND\"] = \"tensorflow\""
   ]
  },
  {
   "cell_type": "code",
   "execution_count": 2,
   "metadata": {},
   "outputs": [],
   "source": [
    "import tensorflow as tf\n",
    "import pandas as pd\n",
    "import keras as kr\n",
    "import pathlib as pl"
   ]
  },
  {
   "cell_type": "markdown",
   "metadata": {},
   "source": [
    "Separamos una porcion de los datos para entrenamiento y validación\n"
   ]
  },
  {
   "cell_type": "code",
   "execution_count": 3,
   "metadata": {},
   "outputs": [],
   "source": [
    "titanic_data_path = pl.Path(\"../data/raw/train.csv\").resolve()\n",
    "titanic_data = pd.read_csv(filepath_or_buffer=titanic_data_path)"
   ]
  },
  {
   "cell_type": "code",
   "execution_count": 4,
   "metadata": {},
   "outputs": [],
   "source": [
    "titanic_data.loc[titanic_data[\"Embarked\"].isna(), \"Embarked\"] = \"D\"\n",
    "titanic_data = titanic_data.loc[\n",
    "    :,\n",
    "    [\n",
    "        \"Survived\",\n",
    "        \"Pclass\",\n",
    "        \"Sex\",\n",
    "        \"Age\",\n",
    "        \"SibSp\",\n",
    "        \"Parch\",\n",
    "        \"Fare\",\n",
    "        \"Embarked\",\n",
    "    ],\n",
    "]"
   ]
  },
  {
   "cell_type": "code",
   "execution_count": 5,
   "metadata": {},
   "outputs": [
    {
     "name": "stdout",
     "output_type": "stream",
     "text": [
      "Contamos con 713 registros para entrenamiento y 178 registros para validar modelos\n"
     ]
    }
   ],
   "source": [
    "titanic_data_validation = titanic_data.sample(frac=0.2, random_state=1337)\n",
    "titanic_data_train = titanic_data.drop(titanic_data_validation.index)\n",
    "\n",
    "print(\n",
    "    \"Contamos con {} registros para entrenamiento y {} registros para validar modelos\".format(\n",
    "        titanic_data_train.shape[0],\n",
    "        titanic_data_validation.shape[0],\n",
    "    )\n",
    ")"
   ]
  },
  {
   "cell_type": "code",
   "execution_count": 6,
   "metadata": {},
   "outputs": [],
   "source": [
    "def dataframe_to_dataset(\n",
    "    dataframe: pd.DataFrame | pd.Series,\n",
    "    target_col: str,\n",
    ") -> tf.data.Dataset:\n",
    "    dataframe = dataframe.copy()\n",
    "    labels = dataframe.pop(item=target_col)\n",
    "    ds = tf.data.Dataset.from_tensor_slices(tensors=(dict(dataframe), labels))\n",
    "    ds = ds.shuffle(buffer_size=dataframe.shape[0])\n",
    "    return ds"
   ]
  },
  {
   "cell_type": "code",
   "execution_count": 7,
   "metadata": {},
   "outputs": [
    {
     "name": "stdout",
     "output_type": "stream",
     "text": [
      "Contamos con 713 registros para entrenamiento y 178 registros para validar modelos\n"
     ]
    }
   ],
   "source": [
    "titanic_dataset_train = dataframe_to_dataset(\n",
    "    dataframe=titanic_data_train, target_col=\"Survived\"\n",
    ")\n",
    "titanic_dataset_validation = dataframe_to_dataset(\n",
    "    dataframe=titanic_data_validation, target_col=\"Survived\"\n",
    ")\n",
    "\n",
    "print(\n",
    "    \"Contamos con {} registros para entrenamiento y {} registros para validar modelos\".format(\n",
    "        len(titanic_dataset_train),\n",
    "        len(titanic_dataset_validation),\n",
    "    )\n",
    ")"
   ]
  },
  {
   "cell_type": "code",
   "execution_count": 8,
   "metadata": {},
   "outputs": [
    {
     "name": "stdout",
     "output_type": "stream",
     "text": [
      "Cada registro cuenta con los siguientes datos:  {'Pclass': <tf.Tensor: shape=(), dtype=int64, numpy=3>, 'Sex': <tf.Tensor: shape=(), dtype=string, numpy=b'male'>, 'Age': <tf.Tensor: shape=(), dtype=float64, numpy=32.0>, 'SibSp': <tf.Tensor: shape=(), dtype=int64, numpy=0>, 'Parch': <tf.Tensor: shape=(), dtype=int64, numpy=0>, 'Fare': <tf.Tensor: shape=(), dtype=float64, numpy=56.4958>, 'Embarked': <tf.Tensor: shape=(), dtype=string, numpy=b'S'>}\n",
      "Cada registro cuenta con el siguiente label:  1\n"
     ]
    }
   ],
   "source": [
    "for data, target in titanic_dataset_train.take(count=1):\n",
    "    print(\"Cada registro cuenta con los siguientes datos:  {}\".format(data))\n",
    "    print(\"Cada registro cuenta con el siguiente label:  {}\".format(target))"
   ]
  },
  {
   "cell_type": "code",
   "execution_count": 9,
   "metadata": {},
   "outputs": [],
   "source": [
    "titanic_dataset_train = titanic_dataset_train.batch(batch_size=32)\n",
    "titanic_dataset_validation = titanic_dataset_validation.batch(batch_size=32)"
   ]
  },
  {
   "cell_type": "code",
   "execution_count": 10,
   "metadata": {},
   "outputs": [],
   "source": [
    "feature_space = kr.utils.FeatureSpace(\n",
    "    features={\n",
    "        \"Pclass\": kr.utils.FeatureSpace.integer_categorical(num_oov_indices=0),\n",
    "        \"Sex\": kr.utils.FeatureSpace.string_categorical(num_oov_indices=0),\n",
    "        \"Age\": kr.utils.FeatureSpace.float_discretized(num_bins=8),\n",
    "        \"SibSp\": kr.utils.FeatureSpace.float_normalized(),\n",
    "        \"Parch\": kr.utils.FeatureSpace.float_normalized(),\n",
    "        \"Fare\": kr.utils.FeatureSpace.float_normalized(),\n",
    "        \"Embarked\": kr.utils.FeatureSpace.string_categorical(num_oov_indices=0),\n",
    "    },\n",
    "    crosses=[\n",
    "        kr.utils.FeatureSpace.cross(\n",
    "            feature_names=(\n",
    "                \"Sex\",\n",
    "                \"Age\",\n",
    "            ),\n",
    "            crossing_dim=16,\n",
    "        ),\n",
    "    ],\n",
    "    output_mode=\"concat\",\n",
    ")"
   ]
  },
  {
   "cell_type": "code",
   "execution_count": 11,
   "metadata": {},
   "outputs": [],
   "source": [
    "titanic_dataset_train_without_target = titanic_dataset_train.map(\n",
    "    map_func=lambda data, _: data\n",
    ")"
   ]
  },
  {
   "cell_type": "code",
   "execution_count": 12,
   "metadata": {},
   "outputs": [],
   "source": [
    "feature_space.adapt(\n",
    "    dataset=titanic_dataset_train_without_target,\n",
    ")"
   ]
  },
  {
   "cell_type": "code",
   "execution_count": 13,
   "metadata": {},
   "outputs": [
    {
     "name": "stdout",
     "output_type": "stream",
     "text": [
      "Dimensiones del dataset procesado: (32, 36)\n",
      "Tipo de datos del dataset procesado: <dtype: 'float32'>\n"
     ]
    }
   ],
   "source": [
    "for data, _ in titanic_dataset_train.take(count=1):\n",
    "    data_processed = feature_space(data)\n",
    "    print(\"Dimensiones del dataset procesado: {}\".format(data_processed.shape))\n",
    "    print(\"Tipo de datos del dataset procesado: {}\".format(data_processed.dtype))"
   ]
  },
  {
   "cell_type": "code",
   "execution_count": 14,
   "metadata": {},
   "outputs": [],
   "source": [
    "preprocessed_dataset_train = titanic_dataset_train.map(\n",
    "    map_func=lambda data, target: (feature_space(data), target)\n",
    ")\n",
    "\n",
    "preprocessed_dataset_validation = titanic_dataset_validation.map(\n",
    "    map_func=lambda data, target: (feature_space(data), target)\n",
    ")"
   ]
  },
  {
   "cell_type": "code",
   "execution_count": 15,
   "metadata": {},
   "outputs": [],
   "source": [
    "dict_inputs = feature_space.get_inputs()\n",
    "encoded_features = feature_space.get_encoded_features()"
   ]
  },
  {
   "cell_type": "code",
   "execution_count": 16,
   "metadata": {},
   "outputs": [
    {
     "data": {
      "text/plain": [
       "{'Pclass': <KerasTensor shape=(None, 1), dtype=int32, sparse=None, name=Pclass>,\n",
       " 'Sex': <KerasTensor shape=(None, 1), dtype=string, sparse=None, name=Sex>,\n",
       " 'Age': <KerasTensor shape=(None, 1), dtype=float32, sparse=None, name=Age>,\n",
       " 'SibSp': <KerasTensor shape=(None, 1), dtype=float32, sparse=None, name=SibSp>,\n",
       " 'Parch': <KerasTensor shape=(None, 1), dtype=float32, sparse=None, name=Parch>,\n",
       " 'Fare': <KerasTensor shape=(None, 1), dtype=float32, sparse=None, name=Fare>,\n",
       " 'Embarked': <KerasTensor shape=(None, 1), dtype=string, sparse=None, name=Embarked>}"
      ]
     },
     "execution_count": 16,
     "metadata": {},
     "output_type": "execute_result"
    }
   ],
   "source": [
    "dict_inputs"
   ]
  },
  {
   "cell_type": "code",
   "execution_count": 17,
   "metadata": {},
   "outputs": [
    {
     "data": {
      "text/plain": [
       "<KerasTensor shape=(None, 36), dtype=float32, sparse=False, name=keras_tensor_13>"
      ]
     },
     "execution_count": 17,
     "metadata": {},
     "output_type": "execute_result"
    }
   ],
   "source": [
    "encoded_features"
   ]
  },
  {
   "cell_type": "code",
   "execution_count": 18,
   "metadata": {},
   "outputs": [],
   "source": [
    "layers = kr.models.Sequential(\n",
    "    layers=[\n",
    "        kr.layers.Dense(units=32, activation=kr.activations.relu),\n",
    "        kr.layers.Dense(units=32, activation=kr.activations.relu),\n",
    "        kr.layers.Dense(units=32, activation=kr.activations.relu),\n",
    "        kr.layers.Dense(units=32, activation=kr.activations.relu),\n",
    "        kr.layers.Dense(units=32, activation=kr.activations.relu),\n",
    "        kr.layers.Dropout(rate=0.5),\n",
    "        kr.layers.Dense(units=1, activation=kr.activations.sigmoid),\n",
    "    ]\n",
    ")\n",
    "\n",
    "predictions = layers(encoded_features)"
   ]
  },
  {
   "cell_type": "code",
   "execution_count": 19,
   "metadata": {},
   "outputs": [],
   "source": [
    "training_model = kr.Model(\n",
    "    inputs=encoded_features,\n",
    "    outputs=predictions,\n",
    ")\n",
    "training_model.compile(\n",
    "    optimizer=kr.optimizers.Adam(),\n",
    "    loss=kr.losses.binary_crossentropy,\n",
    "    metrics=[kr.metrics.BinaryAccuracy()],\n",
    ")"
   ]
  },
  {
   "cell_type": "code",
   "execution_count": 20,
   "metadata": {},
   "outputs": [],
   "source": [
    "inference_model = kr.Model(\n",
    "    inputs=dict_inputs,\n",
    "    outputs=predictions,\n",
    ")"
   ]
  },
  {
   "cell_type": "code",
   "execution_count": 21,
   "metadata": {},
   "outputs": [
    {
     "name": "stdout",
     "output_type": "stream",
     "text": [
      "Epoch 1/20\n",
      "23/23 - 2s - 86ms/step - binary_accuracy: 0.6073 - loss: 0.6704 - val_binary_accuracy: 0.6404 - val_loss: 0.6318\n",
      "Epoch 2/20\n",
      "23/23 - 0s - 9ms/step - binary_accuracy: 0.6746 - loss: 0.6069 - val_binary_accuracy: 0.7809 - val_loss: 0.5570\n",
      "Epoch 3/20\n",
      "23/23 - 0s - 8ms/step - binary_accuracy: 0.7616 - loss: 0.5222 - val_binary_accuracy: 0.8146 - val_loss: 0.4974\n",
      "Epoch 4/20\n",
      "23/23 - 0s - 7ms/step - binary_accuracy: 0.7966 - loss: 0.5066 - val_binary_accuracy: 0.8090 - val_loss: 0.4819\n",
      "Epoch 5/20\n",
      "23/23 - 0s - 6ms/step - binary_accuracy: 0.8149 - loss: 0.4548 - val_binary_accuracy: 0.8146 - val_loss: 0.4689\n",
      "Epoch 6/20\n",
      "23/23 - 0s - 7ms/step - binary_accuracy: 0.8247 - loss: 0.4514 - val_binary_accuracy: 0.8090 - val_loss: 0.4593\n",
      "Epoch 7/20\n",
      "23/23 - 0s - 7ms/step - binary_accuracy: 0.8191 - loss: 0.4193 - val_binary_accuracy: 0.8202 - val_loss: 0.4612\n",
      "Epoch 8/20\n",
      "23/23 - 0s - 7ms/step - binary_accuracy: 0.8289 - loss: 0.4212 - val_binary_accuracy: 0.7978 - val_loss: 0.4622\n",
      "Epoch 9/20\n",
      "23/23 - 0s - 6ms/step - binary_accuracy: 0.8373 - loss: 0.4075 - val_binary_accuracy: 0.7978 - val_loss: 0.4512\n",
      "Epoch 10/20\n",
      "23/23 - 0s - 7ms/step - binary_accuracy: 0.8331 - loss: 0.3850 - val_binary_accuracy: 0.8034 - val_loss: 0.4564\n",
      "Epoch 11/20\n",
      "23/23 - 0s - 6ms/step - binary_accuracy: 0.8359 - loss: 0.4073 - val_binary_accuracy: 0.7978 - val_loss: 0.4569\n",
      "Epoch 12/20\n",
      "23/23 - 0s - 6ms/step - binary_accuracy: 0.8303 - loss: 0.4109 - val_binary_accuracy: 0.8146 - val_loss: 0.4501\n",
      "Epoch 13/20\n",
      "23/23 - 0s - 7ms/step - binary_accuracy: 0.8457 - loss: 0.3992 - val_binary_accuracy: 0.7697 - val_loss: 0.4591\n",
      "Epoch 14/20\n",
      "23/23 - 0s - 7ms/step - binary_accuracy: 0.8415 - loss: 0.3895 - val_binary_accuracy: 0.8090 - val_loss: 0.4541\n",
      "Epoch 15/20\n",
      "23/23 - 0s - 6ms/step - binary_accuracy: 0.8513 - loss: 0.3729 - val_binary_accuracy: 0.8090 - val_loss: 0.4582\n",
      "Epoch 16/20\n",
      "23/23 - 0s - 6ms/step - binary_accuracy: 0.8457 - loss: 0.3743 - val_binary_accuracy: 0.8202 - val_loss: 0.4568\n",
      "Epoch 17/20\n",
      "23/23 - 0s - 6ms/step - binary_accuracy: 0.8457 - loss: 0.3740 - val_binary_accuracy: 0.8315 - val_loss: 0.4521\n",
      "Epoch 18/20\n",
      "23/23 - 0s - 5ms/step - binary_accuracy: 0.8541 - loss: 0.3575 - val_binary_accuracy: 0.7865 - val_loss: 0.4587\n",
      "Epoch 19/20\n",
      "23/23 - 0s - 6ms/step - binary_accuracy: 0.8555 - loss: 0.3475 - val_binary_accuracy: 0.7753 - val_loss: 0.4706\n",
      "Epoch 20/20\n",
      "23/23 - 0s - 7ms/step - binary_accuracy: 0.8443 - loss: 0.3710 - val_binary_accuracy: 0.8034 - val_loss: 0.4431\n"
     ]
    },
    {
     "data": {
      "text/plain": [
       "<keras.src.callbacks.history.History at 0x26baaf0f190>"
      ]
     },
     "execution_count": 21,
     "metadata": {},
     "output_type": "execute_result"
    }
   ],
   "source": [
    "training_model.fit(\n",
    "    preprocessed_dataset_train,\n",
    "    epochs=20,\n",
    "    validation_data=preprocessed_dataset_validation,\n",
    "    verbose=2,\n",
    ")"
   ]
  }
 ],
 "metadata": {
  "kernelspec": {
   "display_name": "titanic-ml-tfpj-M2nteehU",
   "language": "python",
   "name": "python3"
  },
  "language_info": {
   "codemirror_mode": {
    "name": "ipython",
    "version": 3
   },
   "file_extension": ".py",
   "mimetype": "text/x-python",
   "name": "python",
   "nbconvert_exporter": "python",
   "pygments_lexer": "ipython3",
   "version": "3.11.5"
  }
 },
 "nbformat": 4,
 "nbformat_minor": 2
}
